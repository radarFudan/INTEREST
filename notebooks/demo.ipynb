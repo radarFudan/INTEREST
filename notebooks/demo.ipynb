{
 "cells": [
  {
   "cell_type": "code",
   "execution_count": 171,
   "metadata": {},
   "outputs": [],
   "source": [
    "import numpy as np\n",
    "import matplotlib.pyplot as plt\n",
    "import copy\n",
    "\n",
    "import torch\n",
    "import torch.nn as nn\n",
    "\n",
    "from models import LinearTemporalConvNet\n",
    "from utils import output_metric_fns"
   ]
  },
  {
   "cell_type": "code",
   "execution_count": 172,
   "metadata": {},
   "outputs": [],
   "source": [
    "kernel_size = 1024\n",
    "\n",
    "model = LinearTemporalConvNet(hidden_sizes=[1],kernel_size=kernel_size,bias=False)\n",
    "# For convolution kernels, the memory length is bounded by kernel_size"
   ]
  },
  {
   "cell_type": "code",
   "execution_count": 173,
   "metadata": {},
   "outputs": [
    {
     "data": {
      "text/plain": [
       "<All keys matched successfully>"
      ]
     },
     "execution_count": 173,
     "metadata": {},
     "output_type": "execute_result"
    }
   ],
   "source": [
    "state_dict = model.state_dict()\n",
    "\n",
    "pol_weights = torch.tensor([1 / (kernel_size - i)**1.2 for i in range(kernel_size)], dtype=torch.float32).reshape(1, 1, kernel_size)\n",
    "exp_weights = torch.tensor([1 / 1.2**(kernel_size - i) for i in range(kernel_size)], dtype=torch.float32).reshape(1, 1, kernel_size)\n",
    "state_dict[list(state_dict.keys())[0]] = pol_weights\n",
    "\n",
    "model.load_state_dict(state_dict)"
   ]
  },
  {
   "cell_type": "code",
   "execution_count": 174,
   "metadata": {},
   "outputs": [
    {
     "name": "stdout",
     "output_type": "stream",
     "text": [
      "Outputs shape is torch.Size([1, 1024, 1])\n"
     ]
    }
   ],
   "source": [
    "T = 1024\n",
    "inputs = torch.zeros(1, T, 1) # B * T * D\n",
    "inputs[:,0,:] = 1\n",
    "# print(inputs)\n",
    "\n",
    "# print(dict(model.named_parameters()))\n",
    "# print(list(model.parameters()))\n",
    "outputs = model(inputs)\n",
    "print(\"Outputs shape is\", outputs.shape)\n",
    "# print(\"Outputs is\", outputs)"
   ]
  },
  {
   "cell_type": "code",
   "execution_count": 175,
   "metadata": {},
   "outputs": [
    {
     "data": {
      "image/png": "[encoded data removed]",
      "text/plain": [
       "<Figure size 640x480 with 1 Axes>"
      ]
     },
     "metadata": {},
     "output_type": "display_data"
    }
   ],
   "source": [
    "squeezed_outputs = torch.squeeze(outputs).detach().numpy()\n",
    "# print(squeezed_outputs)\n",
    "plt.plot(squeezed_outputs)\n",
    "# memory = squeezed_outputs[1:] - squeezed_outputs[:-1]\n",
    "# memory = np.abs(memory)\n",
    "# print(\"Memory shape is\", memory.shape)\n",
    "# print(memory)\n",
    "# plt.plot(memory)\n",
    "\n",
    "plt.yscale('log')\n",
    "plt.show()"
   ]
  },
  {
   "cell_type": "code",
   "execution_count": 176,
   "metadata": {},
   "outputs": [
    {
     "name": "stdout",
     "output_type": "stream",
     "text": [
      "tensor(9.4890e-07, grad_fn=<MseLossBackward0>) tensor(1.2659e-09, grad_fn=<MseLossBackward0>)\n",
      "Ratio tensor(749.5929, grad_fn=<DivBackward0>)\n",
      "tensor(1.2871e-06, grad_fn=<MseLossBackward0>) tensor(5.0537e-09, grad_fn=<MseLossBackward0>)\n",
      "Ratio tensor(254.6794, grad_fn=<DivBackward0>)\n",
      "tensor(1.7439e-06, grad_fn=<MseLossBackward0>) tensor(1.1360e-08, grad_fn=<MseLossBackward0>)\n",
      "Ratio tensor(153.5164, grad_fn=<DivBackward0>)\n",
      "tensor(5.4967e-06, grad_fn=<MseLossBackward0>) tensor(1.5154e-07, grad_fn=<MseLossBackward0>)\n",
      "Ratio tensor(36.2730, grad_fn=<DivBackward0>)\n"
     ]
    }
   ],
   "source": [
    "pol_weights[:,:,-1] = pol_weights[:,:,-1] + 1 # rho[0] perturbed by 1\n",
    "state_dict[list(state_dict.keys())[0]] = pol_weights\n",
    "model_head = copy.deepcopy(model)\n",
    "model_head.load_state_dict(state_dict)\n",
    "pol_weights[:,:,-1] = pol_weights[:,:,-1] - 1\n",
    "\n",
    "pol_weights[:,:,0] = pol_weights[:,:,0] + 1 # rho[T-1] perturbed by 1\n",
    "state_dict[list(state_dict.keys())[0]] = pol_weights\n",
    "model_tail = copy.deepcopy(model)\n",
    "model_tail.load_state_dict(state_dict)\n",
    "pol_weights[:,:,0] = pol_weights[:,:,0] - 1\n",
    "\n",
    "inputs = torch.randn(10, T, 1) # B * T * D\n",
    "\n",
    "for p in [0, 1, 2, 10]:\n",
    "    print(output_metric_fns[f\"mse_wl{p}\"](model(inputs), model_head(inputs)), output_metric_fns[f\"mse_wl{p}\"](model(inputs), model_tail(inputs)))\n",
    "    print(\"Ratio\", output_metric_fns[f\"mse_wl{p}\"](model(inputs), model_head(inputs)) / output_metric_fns[f\"mse_wl{p}\"](model(inputs), model_tail(inputs)))"
   ]
  },
  {
   "cell_type": "code",
   "execution_count": null,
   "metadata": {},
   "outputs": [],
   "source": []
  },
  {
   "attachments": {},
   "cell_type": "markdown",
   "metadata": {},
   "source": []
  }
 ],
 "metadata": {
  "kernelspec": {
   "display_name": "torch",
   "language": "python",
   "name": "python3"
  },
  "language_info": {
   "codemirror_mode": {
    "name": "ipython",
    "version": 3
   },
   "file_extension": ".py",
   "mimetype": "text/x-python",
   "name": "python",
   "nbconvert_exporter": "python",
   "pygments_lexer": "ipython3",
   "version": "3.9.13"
  },
  "orig_nbformat": 4
 },
 "nbformat": 4,
 "nbformat_minor": 2
}
